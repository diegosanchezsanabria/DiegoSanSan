{
  "nbformat": 4,
  "nbformat_minor": 0,
  "metadata": {
    "colab": {
      "name": "DSS_Needleman_wunsch.ipynb",
      "provenance": [],
      "collapsed_sections": [],
      "authorship_tag": "ABX9TyOEPDvVyK3K04SAlzaCy2DI",
      "include_colab_link": true
    },
    "kernelspec": {
      "name": "python3",
      "display_name": "Python 3"
    },
    "language_info": {
      "name": "python"
    }
  },
  "cells": [
    {
      "cell_type": "markdown",
      "metadata": {
        "id": "view-in-github",
        "colab_type": "text"
      },
      "source": [
        "<a href=\"https://colab.research.google.com/github/diegosanchezsanabria/DiegoSanSan/blob/master/DSS_Needleman_wunsch.ipynb\" target=\"_parent\"><img src=\"https://colab.research.google.com/assets/colab-badge.svg\" alt=\"Open In Colab\"/></a>"
      ]
    },
    {
      "cell_type": "markdown",
      "metadata": {
        "id": "q9uc9mAe7DHl"
      },
      "source": [
        "<table border=\"0\" align=\"left\" width=\"1850\" height=\"144\">\n",
        "<tbody>\n",
        "<tr>\n",
        "<td width=\"120\"><img width=\"100\" src=\"https://www.pngrepo.com/png/143936/512/dna.png\" /></td>\n",
        "<td style=\"width: 600px; height: 67px;\">\n",
        "<h1 style=\"text-align: left;\">Needleman Wunsch Algorithm Demo</h1>\n",
        "<p><a href=\"https://colab.research.google.com/github/diegosanchezsanabria/DiegoSanSan/blob/master/DSS_Needleman_wunsch.ipynb\"> <img src=\"https://colab.research.google.com/assets/colab-badge.svg\" alt=\"Open In Colab\" align=\"left\" width=\"188\" height=\"32\" /> </a></p>\n",
        "</td>\n",
        "</tr>\n",
        "</tbody>\n",
        "</table>"
      ]
    },
    {
      "cell_type": "markdown",
      "metadata": {
        "id": "wbQvEJKZJwmM"
      },
      "source": [
        "\n",
        "\n",
        "This algorithm is used in bioinformatics to align protein or nucleotide sequences. Alignments are a powerful way to compare related DNA or protein sequences. They can be used to capture various facts about the sequences aligned, such as common evolutionary descent or common structural function.\n",
        "\n",
        "\n",
        "\n",
        "### **Guide to test the algorithm**\n",
        "\n",
        "* STEP 1. Choose two sequences to compare in FASTA format. You can copy two of the following snipped examples or search in a [database](https://subjectguides.lib.neu.edu/c.php?g=948457&p=6839134)\n",
        "\n",
        "DETAILS | FASTA\n",
        "--- | ---\n",
        "`P01013 GENE X PROTEIN (OVALBUMIN-RELATED)` | **QIKDLLVSSSTDLDTTLVLVNAIYFKGMWKTAFNAEDTREMPFHVTKQESKPVQMMCMNNSFNVATLPAEKMKILELPFASGDLSMLVLLPDEVSDLERIEKTINFP**\n",
        "`Mitochondrial ribosomal protein L27 Sus scrofa (9823)` | **MALAVLALRTRAAVTALLSPPQKGHYVHAGNILATQRHFRWHPNKCLYALEEGVVRYTKEVYVPNPSNSEAVDLVTRLPQGAVLYKTFVHVVPAKPEGTFKLVAML**\n",
        "`Phalloidin-stabilized F-actin, Homo sapiens` | **MHHHHHHGSLVPRSENLYFQGSDRDAEMPATEKAPWKKIQQNTRWCNEHLKCVSKRIANLQTQMQLENVSVALEFLPNVDKHSVMTYLSQFPKAKLKPGAPLRPK**\n",
        "`Tubulin alpha-1B chain, Bos taurus` | **MRECISIHVGQAGVQIGNACWELYCLEHGIQPDGQMPSDKTIGGGDDSFNTFFSETGAGKHVPRAVFVDLEPTVIDEVRTGTYRQLFHPEQLITGKEDAAADQCTGLQY**\n",
        "\n",
        "\n",
        "\n",
        "\n"
      ]
    },
    {
      "cell_type": "code",
      "metadata": {
        "id": "5IZ5M8lmgKUI"
      },
      "source": [
        "#@title  { display-mode: \"form\" }\n",
        "sequence_1 = '' #@param {type:\"string\"}\n",
        "sequence_2 = '' #@param {type:\"string\"}"
      ],
      "execution_count": 1,
      "outputs": []
    },
    {
      "cell_type": "markdown",
      "metadata": {
        "id": "DXuHmp1Zna4K"
      },
      "source": [
        "\n",
        "* STEP 2. Select using the slide your rewards and penalties for a Match, Mismatch or Gap. Next you can find a recommended scoring schema. Feel free to test any other model.\n",
        "\n",
        "Result | Score\n",
        "--- | ---\n",
        "Match | 1\n",
        "Mismatch | -1\n",
        "Gap | -2\n",
        "\n"
      ]
    },
    {
      "cell_type": "code",
      "metadata": {
        "id": "NrmhBUDrgeIP"
      },
      "source": [
        "#@title  { vertical-output: true, display-mode: \"form\" }\n",
        "match_reward = 1 #@param {type:\"slider\", min:-5, max:5, step:1}\n",
        "mismatch_penalty = -1 #@param {type:\"slider\", min:-5, max:5, step:1} \n",
        "gap_penalty = -2 #@param {type:\"slider\", min:-5, max:5, step:1} "
      ],
      "execution_count": 2,
      "outputs": []
    },
    {
      "cell_type": "markdown",
      "metadata": {
        "id": "HsTgOwQny84e"
      },
      "source": [
        "### When ready, press **CTRL + F9** to run the aligment!"
      ]
    },
    {
      "cell_type": "code",
      "metadata": {
        "id": "EO0bORmwDvzA"
      },
      "source": [
        "#@title  { display-mode: \"form\" }\n",
        "#@title \n",
        "import numpy as np\n",
        "\n",
        "# initial and check matrix\n",
        "main_matrix = np.zeros((len(sequence_1)+1, len(sequence_2)+1))\n",
        "match_checker_matrix = np.zeros((len(sequence_1),len(sequence_2)))\n",
        "\n",
        "# Fill matrix according to match or mismatch\n",
        "for i in range(len(sequence_1)):\n",
        "  for j in range(len(sequence_2)):\n",
        "    if sequence_1[i] == sequence_2[j]:\n",
        "      match_checker_matrix[i][j] = match_reward\n",
        "    else:\n",
        "      match_checker_matrix[i][j] = mismatch_penalty\n",
        "\n",
        "# Initialization \n",
        "for i in range(len(sequence_1)+1):\n",
        "  main_matrix[i][0] = i * gap_penalty\n",
        "for j in range(len(sequence_2)+1):\n",
        "  main_matrix[0][j] = j * gap_penalty\n",
        "\n",
        "# Matrix filling\n",
        "for i in range (1, len(sequence_1)+1):\n",
        "  for j in range (1, len(sequence_2)+1):\n",
        "    main_matrix[i][j] = max(main_matrix[i-1][j-1] + match_checker_matrix[i-1][j-1],\n",
        "                            main_matrix[i-1][j] + gap_penalty, \n",
        "                            main_matrix[i][j-1] + gap_penalty)\n",
        "# Traceback \n",
        "\n",
        "aligned_1 = \"\"\n",
        "aligned_2 = \"\"\n",
        "\n",
        "ti = len(sequence_1)\n",
        "tj = len(sequence_2)\n",
        "\n",
        "while (ti > 0 and tj > 0):\n",
        "\n",
        "  if (ti > 0 and tj > 0 and main_matrix[ti][tj] == main_matrix[ti-1][tj-1] + match_checker_matrix[ti-1][tj-1]):\n",
        "\n",
        "    aligned_1 = sequence_1[ti-1] + aligned_1\n",
        "    aligned_2 = sequence_2[tj-1] + aligned_2\n",
        "\n",
        "    ti = ti - 1\n",
        "    tj = tj - 1\n",
        "\n",
        "  elif (ti > 0 and main_matrix[ti][tj] == main_matrix[ti-1][tj] + gap_penalty):\n",
        "    aligned_1 = sequence_1[ti-1] + aligned_1\n",
        "    aligned_2 = \"-\" + aligned_2\n",
        "    ti = ti - 1\n",
        "\n",
        "  else:\n",
        "    aligned_1 = \"-\" + aligned_1\n",
        "    aligned_2 = sequence_2[tj-1] + aligned_2\n",
        "    tj = tj -1 \n",
        "\n"
      ],
      "execution_count": 3,
      "outputs": []
    },
    {
      "cell_type": "code",
      "metadata": {
        "id": "tzGMNmDtMg-I"
      },
      "source": [
        "#@title # **• •  • Results • • • • • • • • • • • • • • • • • • • • • • • • • • • • • • • • • • • • • • • • • • • • • •  • • • • • • • • • • • • • • • • • • • •  • • • •  • • •  • • • • • • • • • • • • • • • • • • • • • • • • • • • • • •** { vertical-output: true, display-mode: \"form\" }\n",
        "# test\n",
        "print(aligned_1)\n",
        "print(aligned_2)\n"
      ],
      "execution_count": null,
      "outputs": []
    },
    {
      "cell_type": "code",
      "metadata": {
        "id": "PyQV9pE7126M"
      },
      "source": [
        "#@title  { display-mode: \"form\" }\n",
        "#@title\n",
        "import ipywidgets as widgets\n",
        "from IPython.display import display\n",
        "button = widgets.Button(description=\"Click me!\", button_style = \"warning\")\n",
        "output = widgets.Output()\n",
        "\n",
        "def on_button_clicked(b):\n",
        "  with output:\n",
        "     print(\"Thanks for testing, have a nice day (:\")\n",
        "\n",
        "button.on_click(on_button_clicked)\n",
        "display(button, output)"
      ],
      "execution_count": null,
      "outputs": []
    },
    {
      "cell_type": "markdown",
      "metadata": {
        "id": "BJbOnAEmmc83"
      },
      "source": [
        "### There is algo non-biological uses for this classification algorithm\n",
        "\n",
        "**Optimal matching:** A sequence analysis method used in social science, to assess the dissimilarity of ordered arrays of tokens that usually represent a time-ordered sequence of socio-economic states two individuals have experienced.Optimal matching uses the Needleman-Wunsch algorithm.\n",
        "\n",
        "**Historical and comparative linguistics:** Sequence alignment has been used to partially automate the comparative method by which linguists traditionally reconstruct languages.\n",
        "\n",
        "**Business and marketing:** Research has also applied multiple sequence alignment techniques in analyzing series of purchases over time."
      ]
    },
    {
      "cell_type": "markdown",
      "metadata": {
        "id": "SaiWv2vl9uL7"
      },
      "source": [
        "<table border=\"0\" align=\"left\" width=\"1850\" height=\"144\">\n",
        "<tbody>\n",
        "<tr>\n",
        "<td width=\"120\"><img width=\"100\" src=\"https://www.pngrepo.com/png/143936/512/dna.png\" /></td>\n",
        "<td style=\"width: 600px; height: 67px;\">\n",
        "<h1 style=\"text-align: left;\">Needleman Wunsch Algorithm Demo</h1>\n",
        "<h4 style=\"text-align: left;\">Diego Sánchez</h3>\n",
        "</td>\n",
        "</tr>\n",
        "</tbody>\n",
        "</table>"
      ]
    }
  ]
}