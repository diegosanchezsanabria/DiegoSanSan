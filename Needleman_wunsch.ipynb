{
  "nbformat": 4,
  "nbformat_minor": 0,
  "metadata": {
    "colab": {
      "name": "Needleman_wunsch.ipynb",
      "provenance": [],
      "collapsed_sections": [],
      "authorship_tag": "ABX9TyMWz8bV1GSm/RvNuxwEvRpE",
      "include_colab_link": true
    },
    "kernelspec": {
      "name": "python3",
      "display_name": "Python 3"
    },
    "language_info": {
      "name": "python"
    },
    "widgets": {
      "application/vnd.jupyter.widget-state+json": {
        "e6e4cdeb0f54414ab5b91e4cf61a9c6d": {
          "model_module": "@jupyter-widgets/controls",
          "model_name": "ButtonModel",
          "model_module_version": "1.5.0",
          "state": {
            "_view_name": "ButtonView",
            "style": "IPY_MODEL_dd2194aeb3c547d7914204458a75a3cd",
            "_dom_classes": [],
            "description": "Click me!",
            "_model_name": "ButtonModel",
            "button_style": "",
            "_view_module": "@jupyter-widgets/controls",
            "_model_module_version": "1.5.0",
            "tooltip": "",
            "_view_count": null,
            "disabled": false,
            "_view_module_version": "1.5.0",
            "layout": "IPY_MODEL_2ce741cde9784bc59ac9a54ee6a45c01",
            "_model_module": "@jupyter-widgets/controls",
            "icon": ""
          }
        },
        "dd2194aeb3c547d7914204458a75a3cd": {
          "model_module": "@jupyter-widgets/controls",
          "model_name": "ButtonStyleModel",
          "model_module_version": "1.5.0",
          "state": {
            "_view_name": "StyleView",
            "_model_name": "ButtonStyleModel",
            "_view_module": "@jupyter-widgets/base",
            "_model_module_version": "1.5.0",
            "_view_count": null,
            "button_color": null,
            "font_weight": "",
            "_view_module_version": "1.2.0",
            "_model_module": "@jupyter-widgets/controls"
          }
        },
        "2ce741cde9784bc59ac9a54ee6a45c01": {
          "model_module": "@jupyter-widgets/base",
          "model_name": "LayoutModel",
          "model_module_version": "1.2.0",
          "state": {
            "_view_name": "LayoutView",
            "grid_template_rows": null,
            "right": null,
            "justify_content": null,
            "_view_module": "@jupyter-widgets/base",
            "overflow": null,
            "_model_module_version": "1.2.0",
            "_view_count": null,
            "flex_flow": null,
            "width": null,
            "min_width": null,
            "border": null,
            "align_items": null,
            "bottom": null,
            "_model_module": "@jupyter-widgets/base",
            "top": null,
            "grid_column": null,
            "overflow_y": null,
            "overflow_x": null,
            "grid_auto_flow": null,
            "grid_area": null,
            "grid_template_columns": null,
            "flex": null,
            "_model_name": "LayoutModel",
            "justify_items": null,
            "grid_row": null,
            "max_height": null,
            "align_content": null,
            "visibility": null,
            "align_self": null,
            "height": null,
            "min_height": null,
            "padding": null,
            "grid_auto_rows": null,
            "grid_gap": null,
            "max_width": null,
            "order": null,
            "_view_module_version": "1.2.0",
            "grid_template_areas": null,
            "object_position": null,
            "object_fit": null,
            "grid_auto_columns": null,
            "margin": null,
            "display": null,
            "left": null
          }
        }
      }
    }
  },
  "cells": [
    {
      "cell_type": "markdown",
      "metadata": {
        "id": "view-in-github",
        "colab_type": "text"
      },
      "source": [
        "<a href=\"https://colab.research.google.com/github/diegosanchezsanabria/DiegoSanSan/blob/master/Needleman_wunsch.ipynb\" target=\"_parent\"><img src=\"https://colab.research.google.com/assets/colab-badge.svg\" alt=\"Open In Colab\"/></a>"
      ]
    },
    {
      "cell_type": "markdown",
      "metadata": {
        "id": "wbQvEJKZJwmM"
      },
      "source": [
        "## Needleman and Wunsch algorithm\n",
        "\n",
        "\n",
        "---\n",
        "\n",
        "\n",
        "This algorithm is used in bioinformatics to align protein or nucleotide sequences. Alignments are a powerful way to compare related DNA or protein sequences. They can be used to capture various facts about the sequences aligned, such as common evolutionary descent or common structural function.\n",
        "\n",
        "\n",
        "---\n",
        "---\n",
        "\n",
        "\n",
        "### **Guide to test the algorithm**\n",
        "\n",
        "* STEP 1. Choose two sequences to compare in FASTA format. You can select two of the following snipped examples.\n",
        "\n",
        "DETAILS | FASTA\n",
        "--- | ---\n",
        "`P01013 GENE X PROTEIN (OVALBUMIN-RELATED)` | **QIKDLLVSSSTDLDTTLVLVNAIYFKGMWKTAFNAEDTREMPFHVTKQESKPVQMMCMNNSFNVATLPAEKMKILELPFASGDLSMLVLLPDEVSDLERIEKTINFP**\n",
        "`Mitochondrial ribosomal protein L27 Sus scrofa (9823)` | **MALAVLALRTRAAVTALLSPPQKGHYVHAGNILATQRHFRWHPNKCLYALEEGVVRYTKEVYVPNPSNSEAVDLVTRLPQGAVLYKTFVHVVPAKPEGTFKLVAML**\n",
        "`Phalloidin-stabilized F-actin, Homo sapiens` | **MHHHHHHGSLVPRSENLYFQGSDRDAEMPATEKAPWKKIQQNTRWCNEHLKCVSKRIANLQTQMQLENVSVALEFLPNVDKHSVMTYLSQFPKAKLKPGAPLRPK**\n",
        "`Tubulin alpha-1B chain, Bos taurus` | **MRECISIHVGQAGVQIGNACWELYCLEHGIQPDGQMPSDKTIGGGDDSFNTFFSETGAGKHVPRAVFVDLEPTVIDEVRTGTYRQLFHPEQLITGKEDAAADQCTGLQY**\n",
        "\n",
        "\n",
        "\n",
        "\n"
      ]
    },
    {
      "cell_type": "code",
      "metadata": {
        "id": "5IZ5M8lmgKUI"
      },
      "source": [
        "#@title  { display-mode: \"form\" }\n",
        "sequence_1 = 'QIKDLLVSSSTDLDTTLVLVNAIYFKGMWKTAFNAEDTREMPFHVTKQESKPVQMMCMNNSFNVATLPAEKMKILELPFASGDLSMLVLLPDEVSDLERIEKTINFP' #@param {type:\"string\"}\n",
        "sequence_2 = 'MHHHHHHGSLVPRSENLYFQGSDRDAEMPATEKAPWKKIQQNTRWCNEHLKCVSKRIANLQTQMQLENVSVALEFLPNVDKHSVMTYLSQFPKAKLKPGAPLRPK' #@param {type:\"string\"}"
      ],
      "execution_count": 178,
      "outputs": []
    },
    {
      "cell_type": "markdown",
      "metadata": {
        "id": "DXuHmp1Zna4K"
      },
      "source": [
        "\n",
        "* STEP 2. Select using the slide your rewards and penalties for a Match, Mismatch or Gap. Next you can find a recommended scoring schema. Feel free to test any other model.\n",
        "\n",
        "Result | Score\n",
        "--- | ---\n",
        "Match | 1\n",
        "Mismatch | -1\n",
        "Gap | -2\n",
        "\n"
      ]
    },
    {
      "cell_type": "code",
      "metadata": {
        "id": "NrmhBUDrgeIP"
      },
      "source": [
        "#@title  { vertical-output: true, display-mode: \"form\" }\n",
        "match_reward = 1 #@param {type:\"slider\", min:-3, max:5, step:1}\n",
        "mismatch_penalty = -1 #@param {type:\"slider\", min:-3, max:5, step:1} \n",
        "gap_penalty = -2 #@param {type:\"slider\", min:-3, max:5, step:1} "
      ],
      "execution_count": 179,
      "outputs": []
    },
    {
      "cell_type": "markdown",
      "metadata": {
        "id": "HsTgOwQny84e"
      },
      "source": [
        "### When ready, press **CTRL + F9** to run the aligment!"
      ]
    },
    {
      "cell_type": "code",
      "metadata": {
        "id": "EO0bORmwDvzA"
      },
      "source": [
        "#@title  { display-mode: \"form\" }\n",
        "#@title \n",
        "import numpy as np\n",
        "\n",
        "# Create initial matrix\n",
        "main_matrix = np.zeros((len(sequence_1)+1, len(sequence_2)+1))\n",
        "# Create cheking matrix \n",
        "match_checker_matrix = np.zeros((len(sequence_1),len(sequence_2)))\n",
        "\n",
        "# Fill the match checker matrix according to match or mismatch\n",
        "for i in range(len(sequence_1)):\n",
        "  for j in range(len(sequence_2)):\n",
        "    if sequence_1[i] == sequence_2[j]:\n",
        "      match_checker_matrix[i][j] = match_reward\n",
        "    else:\n",
        "      match_checker_matrix[i][j] = mismatch_penalty\n",
        "\n",
        "# Filling up the matrix\n",
        "# Step 1: initialization \n",
        "for i in range(len(sequence_1)+1):\n",
        "  main_matrix[i][0] = i * gap_penalty\n",
        "for j in range(len(sequence_2)+1):\n",
        "  main_matrix[0][j] = j * gap_penalty\n",
        "\n",
        "# Step 2: matrix filling\n",
        "for i in range (1, len(sequence_1)+1):\n",
        "  for j in range (1, len(sequence_2)+1):\n",
        "    main_matrix[i][j] = max(main_matrix[i-1][j-1] + match_checker_matrix[i-1][j-1],\n",
        "                            main_matrix[i-1][j] + gap_penalty, \n",
        "                            main_matrix[i][j-1] + gap_penalty)\n",
        "# Step 3: traceback \n",
        "\n",
        "aligned_1 = \"\"\n",
        "aligned_2 = \"\"\n",
        "\n",
        "ti = len(sequence_1)\n",
        "tj = len(sequence_2)\n",
        "\n",
        "while (ti > 0 and tj > 0):\n",
        "\n",
        "  if (ti > 0 and tj > 0 and main_matrix[ti][tj] == main_matrix[ti-1][tj-1] + match_checker_matrix[ti-1][tj-1]):\n",
        "\n",
        "    aligned_1 = sequence_1[ti-1] + aligned_1\n",
        "    aligned_2 = sequence_2[tj-1] + aligned_2\n",
        "\n",
        "    ti = ti - 1\n",
        "    tj = tj - 1\n",
        "\n",
        "  elif (ti > 0 and main_matrix[ti][tj] == main_matrix[ti-1][tj] + gap_penalty):\n",
        "    aligned_1 = sequence_1[ti-1] + aligned_1\n",
        "    aligned_2 = \"-\" + aligned_2\n",
        "    ti = ti - 1\n",
        "\n",
        "  else:\n",
        "    aligned_1 = \"-\" + aligned_1\n",
        "    aligned_2 = sequence_2[tj-1] + aligned_2\n",
        "    tj = tj -1 \n",
        "\n"
      ],
      "execution_count": 180,
      "outputs": []
    },
    {
      "cell_type": "code",
      "metadata": {
        "id": "tzGMNmDtMg-I",
        "colab": {
          "base_uri": "https://localhost:8080/"
        },
        "outputId": "bcbbe822-46e2-4896-defb-01c90ffbf2ed"
      },
      "source": [
        "#@title # Results { vertical-output: true, display-mode: \"form\" }\n",
        "# test\n",
        "print(aligned_1)\n",
        "print(aligned_2)\n"
      ],
      "execution_count": 181,
      "outputs": [
        {
          "output_type": "stream",
          "name": "stdout",
          "text": [
            "QIKDLLVSSSTDLDTTLVLVNAIYFKGMWKTAFNAEDTREMPFHVTKQE-SKPVQMMCMNNSFNVATLPAEKMKILE-LPFASGDLSMLVLLPDEVSDLERIEKTINFP\n",
            "MHHHHHHGSLVPRSENLYFQGSDRDAEMPAT-EKAPWKKIQQNTRWCNEHLKCV-SKRIANLQTQMQL-ENVSVALEFLPNVDKHSVMTYLSQFPKAKL-KPGAPLRPK\n"
          ]
        }
      ]
    },
    {
      "cell_type": "markdown",
      "metadata": {
        "id": "1qtXT5hQzgm4"
      },
      "source": [
        "--- ---\n",
        "--- ---"
      ]
    },
    {
      "cell_type": "code",
      "metadata": {
        "colab": {
          "base_uri": "https://localhost:8080/",
          "height": 49,
          "referenced_widgets": [
            "e6e4cdeb0f54414ab5b91e4cf61a9c6d",
            "dd2194aeb3c547d7914204458a75a3cd",
            "2ce741cde9784bc59ac9a54ee6a45c01"
          ]
        },
        "id": "PyQV9pE7126M",
        "outputId": "39ee181a-ba92-4b9a-d4c0-fbe192bd1a5a"
      },
      "source": [
        "#@title  { display-mode: \"form\" }\n",
        "#@title\n",
        "import ipywidgets as widgets\n",
        "from IPython.display import display\n",
        "button = widgets.Button(description=\"Click me!\")\n",
        "\n",
        "def on_button_clicked(b):\n",
        "  # Display the message within the output widget.\n",
        "  with output:\n",
        "    print(\"Thanks for testing, have a nice day (:\")\n",
        "\n",
        "button.on_click(on_button_clicked)\n",
        "display(button)"
      ],
      "execution_count": 182,
      "outputs": [
        {
          "output_type": "display_data",
          "data": {
            "application/vnd.jupyter.widget-view+json": {
              "model_id": "e6e4cdeb0f54414ab5b91e4cf61a9c6d",
              "version_minor": 0,
              "version_major": 2
            },
            "text/plain": [
              "Button(description='Click me!', style=ButtonStyle())"
            ]
          },
          "metadata": {}
        }
      ]
    },
    {
      "cell_type": "markdown",
      "metadata": {
        "id": "BJbOnAEmmc83"
      },
      "source": [
        "### There is algo non-biological uses for this classification algorithm\n",
        "\n",
        "**Optimal matching:** A sequence analysis method used in social science, to assess the dissimilarity of ordered arrays of tokens that usually represent a time-ordered sequence of socio-economic states two individuals have experienced.Optimal matching uses the Needleman-Wunsch algorithm.\n",
        "\n",
        "**Historical and comparative linguistics:** Sequence alignment has been used to partially automate the comparative method by which linguists traditionally reconstruct languages.\n",
        "\n",
        "**Business and marketing:** Research has also applied multiple sequence alignment techniques in analyzing series of purchases over time."
      ]
    },
    {
      "cell_type": "code",
      "metadata": {
        "id": "dqLUNpFSoEk2"
      },
      "source": [
        "# %%shell\n",
        "# jupyter nbconvert --to html /content/Needleman_wunsch.ipynb"
      ],
      "execution_count": 183,
      "outputs": []
    }
  ]
}